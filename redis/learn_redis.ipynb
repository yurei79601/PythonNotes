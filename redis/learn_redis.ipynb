{
 "cells": [
  {
   "cell_type": "code",
   "execution_count": 143,
   "id": "c3c102a8-0645-432d-91d3-bf1e11dca34f",
   "metadata": {},
   "outputs": [],
   "source": [
    "import time\n",
    "import redis\n",
    "import redis_utils"
   ]
  },
  {
   "cell_type": "code",
   "execution_count": 22,
   "id": "dbb51ffd-adde-4838-b1f6-d3231890fd6b",
   "metadata": {},
   "outputs": [],
   "source": [
    "endpoint = \"redis-10483.c299.asia-northeast1-1.gce.cloud.redislabs.com:10483\"\n",
    "hostname = endpoint.split(':')[0]\n",
    "password = \"7imP7aKrC1V631exXxO4sUAjaoxWayS9\"\n",
    "port = int(endpoint.split(':')[1])"
   ]
  },
  {
   "cell_type": "code",
   "execution_count": 23,
   "id": "71b654ab-466c-49ad-bcb9-5e2e42c2b602",
   "metadata": {},
   "outputs": [],
   "source": [
    "redis_conn = redis.Redis(\n",
    "    host=hostname,\n",
    "    port=port,\n",
    "    password=password\n",
    ")"
   ]
  },
  {
   "cell_type": "markdown",
   "id": "e0faeec1-c781-438d-9c41-c2d3e5cc41c3",
   "metadata": {},
   "source": [
    "# String"
   ]
  },
  {
   "cell_type": "code",
   "execution_count": 36,
   "id": "3c863c93-11fa-4e26-abdd-c030fa80d908",
   "metadata": {},
   "outputs": [
    {
     "data": {
      "text/plain": [
       "True"
      ]
     },
     "execution_count": 36,
     "metadata": {},
     "output_type": "execute_result"
    }
   ],
   "source": [
    "a_string = \"test_input\"\n",
    "redis_conn.set(\"a_string\", a_string)"
   ]
  },
  {
   "cell_type": "code",
   "execution_count": 37,
   "id": "06e7f2bb-dd45-4e00-a962-dc087a505188",
   "metadata": {},
   "outputs": [
    {
     "data": {
      "text/plain": [
       "1"
      ]
     },
     "execution_count": 37,
     "metadata": {},
     "output_type": "execute_result"
    }
   ],
   "source": [
    "redis_conn.exists(\"a_string\")"
   ]
  },
  {
   "cell_type": "code",
   "execution_count": 43,
   "id": "d357fd3d-3a32-487e-8627-6a14f22c8695",
   "metadata": {},
   "outputs": [
    {
     "data": {
      "text/plain": [
       "(b'test_input', bytes)"
      ]
     },
     "execution_count": 43,
     "metadata": {},
     "output_type": "execute_result"
    }
   ],
   "source": [
    "redis_string = redis_conn.get(\"a_string\")\n",
    "redis_string, type(redis_string)"
   ]
  },
  {
   "cell_type": "code",
   "execution_count": 42,
   "id": "b09b5a6f-4680-4dcf-ace0-79a4a4c34c9f",
   "metadata": {},
   "outputs": [
    {
     "data": {
      "text/plain": [
       "True"
      ]
     },
     "execution_count": 42,
     "metadata": {},
     "output_type": "execute_result"
    }
   ],
   "source": [
    "redis_string.decode('ascii') == a_string"
   ]
  },
  {
   "cell_type": "code",
   "execution_count": 44,
   "id": "72f72a0e-8327-41bf-8e2a-5c9a2cf48fad",
   "metadata": {},
   "outputs": [
    {
     "data": {
      "text/plain": [
       "1"
      ]
     },
     "execution_count": 44,
     "metadata": {},
     "output_type": "execute_result"
    }
   ],
   "source": [
    "redis_conn.delete(\"a_string\")"
   ]
  },
  {
   "cell_type": "code",
   "execution_count": 45,
   "id": "4c78ca0a-2bf5-4b74-9c4c-8d626a4d6e54",
   "metadata": {},
   "outputs": [
    {
     "data": {
      "text/plain": [
       "0"
      ]
     },
     "execution_count": 45,
     "metadata": {},
     "output_type": "execute_result"
    }
   ],
   "source": [
    "redis_conn.delete(\"a_string\")"
   ]
  },
  {
   "cell_type": "markdown",
   "id": "d2076e83-3f4d-42aa-a730-48113cd10850",
   "metadata": {},
   "source": [
    "## List"
   ]
  },
  {
   "cell_type": "code",
   "execution_count": 57,
   "id": "88b2ffdf-6f5c-4fdf-8856-4446f6cdd224",
   "metadata": {},
   "outputs": [
    {
     "data": {
      "text/plain": [
       "1"
      ]
     },
     "execution_count": 57,
     "metadata": {},
     "output_type": "execute_result"
    }
   ],
   "source": [
    "redis_conn.delete(\"a_list\")"
   ]
  },
  {
   "cell_type": "code",
   "execution_count": 73,
   "id": "2eedbf18-75ec-434a-a127-823c84e0932a",
   "metadata": {
    "tags": []
   },
   "outputs": [
    {
     "data": {
      "text/plain": [
       "5"
      ]
     },
     "execution_count": 73,
     "metadata": {},
     "output_type": "execute_result"
    }
   ],
   "source": [
    "redis_conn.rpush(\"a_list\", 1, 2, 3, 4, 5)"
   ]
  },
  {
   "cell_type": "code",
   "execution_count": 77,
   "id": "25050d73-fc82-4e22-8463-ae225d913af1",
   "metadata": {},
   "outputs": [],
   "source": [
    "redis_list = redis_conn.lrange(\"a_list\", 0, -1)"
   ]
  },
  {
   "cell_type": "code",
   "execution_count": 76,
   "id": "abe9a40f-2cf5-4646-a169-4c4edd18459b",
   "metadata": {},
   "outputs": [
    {
     "data": {
      "text/plain": [
       "b'1'"
      ]
     },
     "execution_count": 76,
     "metadata": {},
     "output_type": "execute_result"
    }
   ],
   "source": [
    "redis_conn.lindex(\"a_list\", 0)"
   ]
  },
  {
   "cell_type": "code",
   "execution_count": 62,
   "id": "2968aaf3-126a-4aba-ba23-d7c0f1b75e72",
   "metadata": {},
   "outputs": [],
   "source": [
    "transformed_redis_list = [int(i.decode('ascii')) for i in redis_list]"
   ]
  },
  {
   "cell_type": "markdown",
   "id": "13c17dd5-34b5-412a-8e17-0a3004c41462",
   "metadata": {},
   "source": [
    "## Sets"
   ]
  },
  {
   "cell_type": "code",
   "execution_count": 80,
   "id": "30fb30dd-aacb-477c-9ead-c1895e9e7687",
   "metadata": {},
   "outputs": [],
   "source": [
    "a_set = {'a', 'b', 'c'}\n",
    "for i in a_set:\n",
    "    redis_conn.sadd(\"a_set\", i)"
   ]
  },
  {
   "cell_type": "code",
   "execution_count": 87,
   "id": "f8f814f6-8a17-4257-b078-1af0f3458d03",
   "metadata": {},
   "outputs": [
    {
     "data": {
      "text/plain": [
       "(True, False)"
      ]
     },
     "execution_count": 87,
     "metadata": {},
     "output_type": "execute_result"
    }
   ],
   "source": [
    "redis_conn.sismember(\"a_set\", \"a\"), redis_conn.sismember(\"a_set\", 5)"
   ]
  },
  {
   "cell_type": "code",
   "execution_count": 88,
   "id": "bae09b34-0d1c-42ec-8ce0-1e234b4cc8ab",
   "metadata": {},
   "outputs": [],
   "source": [
    "redis_set = redis_conn.smembers(\"a_set\")"
   ]
  },
  {
   "cell_type": "code",
   "execution_count": 94,
   "id": "f9ce8100-7ed7-46b6-bc21-1a6a6e6abf60",
   "metadata": {},
   "outputs": [],
   "source": [
    "for _ in redis_set:\n",
    "    redis_set.add(redis_set.pop().decode('ascii'))"
   ]
  },
  {
   "cell_type": "code",
   "execution_count": 95,
   "id": "91c4d434-745b-493d-8c66-216fa3f9e613",
   "metadata": {},
   "outputs": [
    {
     "data": {
      "text/plain": [
       "True"
      ]
     },
     "execution_count": 95,
     "metadata": {},
     "output_type": "execute_result"
    }
   ],
   "source": [
    "redis_set == a_set"
   ]
  },
  {
   "cell_type": "markdown",
   "id": "0a7b7fae-b42b-4bf1-a9d5-42a6310b0cb2",
   "metadata": {},
   "source": [
    "## Hashes"
   ]
  },
  {
   "cell_type": "code",
   "execution_count": 97,
   "id": "cc3957fc-fb33-4db2-baaa-9002c1269f14",
   "metadata": {},
   "outputs": [],
   "source": [
    "for i in range(5):\n",
    "    redis_conn.hset(\"a_hash\", f\"key{i}\", i)"
   ]
  },
  {
   "cell_type": "code",
   "execution_count": 109,
   "id": "93348935-d419-4d73-8f9a-d598cd983d41",
   "metadata": {},
   "outputs": [],
   "source": [
    "redis_hash = redis_conn.hgetall('a_hash')"
   ]
  },
  {
   "cell_type": "code",
   "execution_count": 110,
   "id": "f2ec2e89-4ef8-4272-b2e3-ca4517a9c835",
   "metadata": {},
   "outputs": [],
   "source": [
    "key_list = list(redis_hash.keys())"
   ]
  },
  {
   "cell_type": "code",
   "execution_count": 111,
   "id": "816c3d44-9694-4a07-9c74-f77fb5dff184",
   "metadata": {},
   "outputs": [],
   "source": [
    "for key in key_list:\n",
    "    redis_hash[key.decode('ascii')] = redis_hash.pop(key).decode('ascii')"
   ]
  },
  {
   "cell_type": "code",
   "execution_count": 114,
   "id": "553c4c97-5e46-4d87-99bb-73a77e5a9219",
   "metadata": {},
   "outputs": [
    {
     "data": {
      "text/plain": [
       "1"
      ]
     },
     "execution_count": 114,
     "metadata": {},
     "output_type": "execute_result"
    }
   ],
   "source": [
    "redis_conn.hdel('a_hash', 'key4')"
   ]
  },
  {
   "cell_type": "code",
   "execution_count": 112,
   "id": "be39845c-496d-46ca-8b20-a9083dbf4275",
   "metadata": {},
   "outputs": [
    {
     "data": {
      "text/plain": [
       "{'key0': '0', 'key1': '1', 'key2': '2', 'key3': '3', 'key4': '4'}"
      ]
     },
     "execution_count": 112,
     "metadata": {},
     "output_type": "execute_result"
    }
   ],
   "source": [
    "redis_hash"
   ]
  },
  {
   "cell_type": "markdown",
   "id": "c4c1786f-38c5-430f-8325-c1c6391c76e2",
   "metadata": {},
   "source": [
    "## sorted sets"
   ]
  },
  {
   "cell_type": "code",
   "execution_count": 130,
   "id": "5dc2655d-cbf2-43d1-acda-b17e2a1f1445",
   "metadata": {},
   "outputs": [],
   "source": [
    "sorted_set_dict = {f\"element{i}\": i + 1 for i in range(5)}"
   ]
  },
  {
   "cell_type": "code",
   "execution_count": 131,
   "id": "d3787ddb-c132-4a09-b49a-96087de52555",
   "metadata": {},
   "outputs": [
    {
     "data": {
      "text/plain": [
       "4"
      ]
     },
     "execution_count": 131,
     "metadata": {},
     "output_type": "execute_result"
    }
   ],
   "source": [
    "redis_conn.zadd(\"a_sorted_set\", sorted_set_dict)"
   ]
  },
  {
   "cell_type": "code",
   "execution_count": 135,
   "id": "f5c8855a-1254-4db4-b771-f001303582cb",
   "metadata": {},
   "outputs": [
    {
     "data": {
      "text/plain": [
       "b'element0'"
      ]
     },
     "execution_count": 135,
     "metadata": {},
     "output_type": "execute_result"
    }
   ],
   "source": [
    "redis_conn.zrangebyscore('a_sorted_set', 0, 6)"
   ]
  },
  {
   "cell_type": "code",
   "execution_count": 134,
   "id": "55848e69-8a21-4ba8-90c1-1bae6a12e92a",
   "metadata": {},
   "outputs": [
    {
     "data": {
      "text/plain": [
       "[b'element0', b'element1', b'element2', b'element3', b'element4']"
      ]
     },
     "execution_count": 134,
     "metadata": {},
     "output_type": "execute_result"
    }
   ],
   "source": [
    "redis_conn.zrange('a_sorted_set', 0, 6)"
   ]
  },
  {
   "cell_type": "markdown",
   "id": "f848674b-d189-498b-bfdc-f06a7e46b9fc",
   "metadata": {},
   "source": [
    "# voting article"
   ]
  },
  {
   "cell_type": "code",
   "execution_count": 140,
   "id": "d96ec4af-b461-4e7a-a08a-45ad4c0ae0c5",
   "metadata": {},
   "outputs": [],
   "source": [
    "ONE_WEEK_IN_SECONDS = 7 * 86400\n",
    "VOTE_SCORE = 432\n",
    "ARTICLES_PER_PAGE = 25"
   ]
  },
  {
   "cell_type": "code",
   "execution_count": 222,
   "id": "6a4afe39-c0e7-4478-adc0-fce781a543c4",
   "metadata": {},
   "outputs": [],
   "source": [
    "def article_vote(conn, user, article):\n",
    "#     cutoff = time.time() - ONE_WEEK_IN_SECONDS\n",
    "    cutoff = 10\n",
    "    if conn.zscore('time:', article) < cutoff:\n",
    "        return\n",
    "    article_id = article.partition(':')[-1]\n",
    "    if conn.sadd('voted:' + article_id, user):\n",
    "        conn.zincrby('score:', VOTE_SCORE, article)\n",
    "        conn.hincrby(article, 'votes', 1)\n",
    "        print('complete')"
   ]
  },
  {
   "cell_type": "code",
   "execution_count": 149,
   "id": "267146d4-3aac-4c1b-953f-748de16ff239",
   "metadata": {},
   "outputs": [],
   "source": [
    "def transform_binary_hash_to_dict(redis_hash):\n",
    "    key_list = list(redis_hash.keys())\n",
    "    for key in key_list:\n",
    "        redis_hash[key.decode('ascii')] = redis_hash.pop(key).decode('ascii')\n",
    "    return redis_hash"
   ]
  },
  {
   "cell_type": "code",
   "execution_count": 145,
   "id": "f0f4ba81-d53a-4276-a33d-3deab24e0f76",
   "metadata": {},
   "outputs": [],
   "source": [
    "redis_conn = redis_utils.create_redis_conn()"
   ]
  },
  {
   "cell_type": "code",
   "execution_count": 186,
   "id": "a7b63624-11b7-4491-8d46-4fc7525ced0a",
   "metadata": {},
   "outputs": [],
   "source": [
    "redis_key = \"article:92617\"\n",
    "a_dict = {\n",
    "    'title': 'Go to statement considered harmful',\n",
    "    'link': 'http://goo.gl/kZUSu',\n",
    "    'poster': ' user:83271',\n",
    "    'time': '1331382699.33',\n",
    "    'votes': '528'\n",
    "}\n",
    "for key, value in a_dict.items():\n",
    "    redis_conn.hset(redis_key, key, value)"
   ]
  },
  {
   "cell_type": "code",
   "execution_count": 161,
   "id": "f455ff8c-5ec8-4772-b40c-8f0853f0c376",
   "metadata": {},
   "outputs": [
    {
     "data": {
      "text/plain": [
       "1.0"
      ]
     },
     "execution_count": 161,
     "metadata": {},
     "output_type": "execute_result"
    }
   ],
   "source": [
    "redis_conn.zscore('time:', redis_key)"
   ]
  },
  {
   "cell_type": "code",
   "execution_count": 177,
   "id": "9bbc2380-5007-45be-aacd-f5c9bba53c18",
   "metadata": {},
   "outputs": [
    {
     "data": {
      "text/plain": [
       "1"
      ]
     },
     "execution_count": 177,
     "metadata": {},
     "output_type": "execute_result"
    }
   ],
   "source": [
    "redis_conn.zadd('time:', {redis_key: 1000000})"
   ]
  },
  {
   "cell_type": "code",
   "execution_count": 183,
   "id": "023f027d-dd49-47aa-abb4-391096dab907",
   "metadata": {},
   "outputs": [
    {
     "data": {
      "text/plain": [
       "1"
      ]
     },
     "execution_count": 183,
     "metadata": {},
     "output_type": "execute_result"
    }
   ],
   "source": [
    "redis_conn.zadd('score:', {redis_key: 50})"
   ]
  },
  {
   "cell_type": "code",
   "execution_count": 264,
   "id": "5668eed2-cf09-4507-a16e-7bae015975d9",
   "metadata": {},
   "outputs": [],
   "source": [
    "artical = transform_binary_hash_to_dict(redis_conn.hgetall(redis_key))"
   ]
  },
  {
   "cell_type": "code",
   "execution_count": 240,
   "id": "b02af1b7-d2d8-4b11-8e2b-2a5f64fdeaea",
   "metadata": {
    "tags": []
   },
   "outputs": [
    {
     "name": "stdout",
     "output_type": "stream",
     "text": [
      "complete\n"
     ]
    }
   ],
   "source": [
    "article_vote(redis_conn, \"83271\", redis_key)"
   ]
  },
  {
   "cell_type": "code",
   "execution_count": 219,
   "id": "d165e519-3def-40ba-b0e1-4c716d7f1301",
   "metadata": {
    "tags": []
   },
   "outputs": [
    {
     "data": {
      "text/plain": [
       "53.0"
      ]
     },
     "execution_count": 219,
     "metadata": {},
     "output_type": "execute_result"
    }
   ],
   "source": [
    "redis_conn.zincrby('score:', '', redis_key)"
   ]
  },
  {
   "cell_type": "code",
   "execution_count": 232,
   "id": "0dd71167-98d6-4417-926e-3a320b7bdb3f",
   "metadata": {},
   "outputs": [
    {
     "data": {
      "text/plain": [
       "{b'16986', b'83271'}"
      ]
     },
     "execution_count": 232,
     "metadata": {},
     "output_type": "execute_result"
    }
   ],
   "source": [
    "redis_conn.smembers('voted:92617')"
   ]
  },
  {
   "cell_type": "code",
   "execution_count": 239,
   "id": "6f4c4fa8-cc25-471b-bbf2-7f0640c5349b",
   "metadata": {},
   "outputs": [
    {
     "data": {
      "text/plain": [
       "1"
      ]
     },
     "execution_count": 239,
     "metadata": {},
     "output_type": "execute_result"
    }
   ],
   "source": [
    "redis_conn.srem('voted:92617', '83271')"
   ]
  },
  {
   "cell_type": "code",
   "execution_count": 238,
   "id": "d3a2ed44-a230-40bc-8a8a-cb35014ee4bf",
   "metadata": {
    "tags": []
   },
   "outputs": [
    {
     "data": {
      "text/plain": [
       "1"
      ]
     },
     "execution_count": 238,
     "metadata": {},
     "output_type": "execute_result"
    }
   ],
   "source": [
    "redis_conn.sadd('voted:'+'92617', '83271')"
   ]
  },
  {
   "cell_type": "code",
   "execution_count": 268,
   "id": "893d64fd-0a9e-496e-87ea-def659f18f2f",
   "metadata": {},
   "outputs": [],
   "source": [
    "def post_article(conn, user, title, link):\n",
    "    article_id = str(conn.incr('article:'))\n",
    "    voted = 'voted:' + article_id\n",
    "    conn.sadd(voted, user)\n",
    "    conn.expire(voted, ONE_WEEK_IN_SECONDS)\n",
    "    now = time.time()\n",
    "    article = 'article:' + article_id\n",
    "    print(article)\n",
    "    conn.hmset(article, {\n",
    "        'title': title,\n",
    "        'link': link,\n",
    "        'poster': user,\n",
    "        'time': now,\n",
    "        'votes': 1,\n",
    "    })\n",
    "    conn.zadd('score:', {article: now + VOTE_SCORE})\n",
    "    conn.zadd('time:', {article: now})\n",
    "    return article_id"
   ]
  },
  {
   "cell_type": "code",
   "execution_count": 271,
   "id": "70208ba1-9d92-44b4-b68f-413e120e3c18",
   "metadata": {},
   "outputs": [
    {
     "name": "stdout",
     "output_type": "stream",
     "text": [
      "article:6\n"
     ]
    },
    {
     "name": "stderr",
     "output_type": "stream",
     "text": [
      "/Users/yurei/my_env_name/lib/python3.7/site-packages/ipykernel_launcher.py:14: DeprecationWarning: Redis.hmset() is deprecated. Use Redis.hset() instead.\n",
      "  \n"
     ]
    }
   ],
   "source": [
    "article_id = post_article(redis_conn, \"user\", \"test_title\", \"localhost\")"
   ]
  },
  {
   "cell_type": "code",
   "execution_count": 272,
   "id": "b167f2bd-2645-410d-a5d9-f7e72780d95d",
   "metadata": {},
   "outputs": [
    {
     "data": {
      "text/plain": [
       "{b'title': b'test_title',\n",
       " b'link': b'localhost',\n",
       " b'poster': b'user',\n",
       " b'time': b'1664292503.195312',\n",
       " b'votes': b'1'}"
      ]
     },
     "execution_count": 272,
     "metadata": {},
     "output_type": "execute_result"
    }
   ],
   "source": [
    "redis_conn.hgetall(f\"article:{article_id}\")"
   ]
  },
  {
   "cell_type": "code",
   "execution_count": 278,
   "id": "421f97b6-8fcb-4f80-8c44-627288091af0",
   "metadata": {},
   "outputs": [],
   "source": [
    "def get_articles(conn, page, order='score:'):\n",
    "    start = (page - 1) * ARTICLES_PER_PAGE\n",
    "    end = start + ARTICLES_PER_PAGE - 1\n",
    "    ids = conn.zrevrange(order, start, end)\n",
    "    articles = []\n",
    "    for a_id in ids:\n",
    "        article_data = conn.hgetall(a_id)\n",
    "        article_data['id'] = a_id\n",
    "        articles.append(article_data)\n",
    "    return articles"
   ]
  },
  {
   "cell_type": "code",
   "execution_count": 279,
   "id": "f241208a-66ad-4b67-9ffc-8fde65a70fbe",
   "metadata": {
    "collapsed": true,
    "jupyter": {
     "outputs_hidden": true
    },
    "tags": []
   },
   "outputs": [
    {
     "data": {
      "text/plain": [
       "[{b'title': b'test_title',\n",
       "  b'link': b'localhost',\n",
       "  b'poster': b'user',\n",
       "  b'time': b'1664292503.195312',\n",
       "  b'votes': b'1',\n",
       "  'id': b'article:6'},\n",
       " {b'title': b'test_title',\n",
       "  b'link': b'localhost',\n",
       "  b'poster': b'user',\n",
       "  b'time': b'1664292477.1257899',\n",
       "  b'votes': b'1',\n",
       "  'id': b'article:5'},\n",
       " {b'title': b'test_title',\n",
       "  b'link': b'localhost',\n",
       "  b'poster': b'user',\n",
       "  b'time': b'1664292455.169195',\n",
       "  b'votes': b'1',\n",
       "  'id': b'article:4'},\n",
       " {b'title': b'test_title',\n",
       "  b'link': b'localhost',\n",
       "  b'poster': b'user',\n",
       "  b'time': b'1664292414.645739',\n",
       "  b'votes': b'1',\n",
       "  'id': b'article:3'},\n",
       " {b'title': b'test_title',\n",
       "  b'link': b'localhost',\n",
       "  b'poster': b'user',\n",
       "  b'time': b'1664292248.587447',\n",
       "  b'votes': b'1',\n",
       "  'id': b'article:2'},\n",
       " {b'title': b'Go to statement considered harmful',\n",
       "  b'link': b'http://goo.gl/kZUSu',\n",
       "  b'poster': b' user:83271',\n",
       "  b'time': b'1331382699.33',\n",
       "  b'votes': b'530',\n",
       "  'id': b'article:92617'}]"
      ]
     },
     "execution_count": 279,
     "metadata": {},
     "output_type": "execute_result"
    }
   ],
   "source": [
    "get_articles(redis_conn, 0)"
   ]
  },
  {
   "cell_type": "code",
   "execution_count": 276,
   "id": "1083b47c-e9c5-436c-9d31-1ce9e90a9ea5",
   "metadata": {},
   "outputs": [],
   "source": [
    "def add_remove_groups(conn, article_id, to_add=[], to_remove=[]):\n",
    "    article = 'article:' + article_id\n",
    "    for group in to_add:\n",
    "        conn.sadd('group:' + group, article)\n",
    "    for group in to_remove:\n",
    "        conn.srem('group:' + group, article)"
   ]
  },
  {
   "cell_type": "code",
   "execution_count": 280,
   "id": "5583a8b2-881e-4c09-ae7a-8e76be6f935d",
   "metadata": {},
   "outputs": [],
   "source": [
    "add_remove_groups(redis_conn, '1', ['test_group1'])"
   ]
  },
  {
   "cell_type": "code",
   "execution_count": 277,
   "id": "fbfe7dd3-f3e6-41fd-9f5c-379122eae83b",
   "metadata": {},
   "outputs": [],
   "source": [
    "def get_group_articles(conn, group, page, order='score:'):\n",
    "    key = order + group\n",
    "    if not conn.exists(key):\n",
    "        conn.zinterstore(\n",
    "            key,\n",
    "            ['group:' + group, order],\n",
    "            aggregate='max',\n",
    "        )\n",
    "    conn.expire(key, 60)\n",
    "    return get_articles(conn, page, key)"
   ]
  },
  {
   "cell_type": "code",
   "execution_count": 282,
   "id": "94411892-e710-40e5-b099-17a11dc956c2",
   "metadata": {},
   "outputs": [
    {
     "data": {
      "text/plain": [
       "[]"
      ]
     },
     "execution_count": 282,
     "metadata": {},
     "output_type": "execute_result"
    }
   ],
   "source": [
    "get_group_articles(redis_conn, 'test_group1', 0, '')"
   ]
  }
 ],
 "metadata": {
  "kernelspec": {
   "display_name": "my_env_name",
   "language": "python",
   "name": "my_env_name"
  },
  "language_info": {
   "codemirror_mode": {
    "name": "ipython",
    "version": 3
   },
   "file_extension": ".py",
   "mimetype": "text/x-python",
   "name": "python",
   "nbconvert_exporter": "python",
   "pygments_lexer": "ipython3",
   "version": "3.7.4"
  }
 },
 "nbformat": 4,
 "nbformat_minor": 5
}
