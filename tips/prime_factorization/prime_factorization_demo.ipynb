{
 "cells": [
  {
   "cell_type": "code",
   "execution_count": 1,
   "metadata": {},
   "outputs": [],
   "source": [
    "import numpy as np\n",
    "import pandas as pd\n",
    "from matplotlib import pyplot as plt\n",
    "import utils"
   ]
  },
  {
   "cell_type": "markdown",
   "metadata": {},
   "source": [
    "# 1. 你的密碼是使用生日來做設定嗎？\n",
    "如果是的話，這邊來教您如何用另一種方式來設定，而且自己也找得回來唷！"
   ]
  },
  {
   "cell_type": "markdown",
   "metadata": {},
   "source": [
    "# 2. 數字分解 (factorization)\n",
    "一般我們說數字的分解把一個數字換成很多個數字相乘，例如\n",
    "1. $7 = 1 \\times 7$\n",
    "2. $24 = 3 \\times 8 = 6 \\times 4 = 2 \\times 2 \\times 2 \\times 3 = 2^3 \\times 3$\n",
    "3. $10 = 2 \\times 5$"
   ]
  },
  {
   "cell_type": "markdown",
   "metadata": {},
   "source": [
    "## 2.1. 質數 (prime numbers)\n",
    "從上面的例子，會發現有一個數字它只能被拆解成 <font color='red'>**1**</font> 以及<font color='red'>**自己**</font>相乘，這種數字叫做<font color='orange'>**質數** (prime number)<font>"
   ]
  },
  {
   "cell_type": "code",
   "execution_count": 2,
   "metadata": {},
   "outputs": [
    {
     "data": {
      "text/plain": [
       "[2, 3, 5]"
      ]
     },
     "execution_count": 2,
     "metadata": {},
     "output_type": "execute_result"
    }
   ],
   "source": [
    "number = 600\n",
    "utils.get_prime_factor_list(number)"
   ]
  },
  {
   "cell_type": "code",
   "execution_count": 3,
   "metadata": {},
   "outputs": [
    {
     "data": {
      "text/plain": [
       "[]"
      ]
     },
     "execution_count": 3,
     "metadata": {},
     "output_type": "execute_result"
    }
   ],
   "source": [
    "number = 7\n",
    "utils.get_prime_factor_list(number)"
   ]
  },
  {
   "cell_type": "markdown",
   "metadata": {},
   "source": [
    "### 2.1.1. 質數很多嗎？"
   ]
  },
  {
   "cell_type": "code",
   "execution_count": 4,
   "metadata": {},
   "outputs": [],
   "source": [
    "N = 1000\n",
    "number_list = range(1, N + 1)\n",
    "prime_number_list = [x for x in number_list if utils.is_prime(x)]\n",
    "\n",
    "f = lambda x: x if utils.is_prime(x) else 0\n",
    "plot_array = [f(x) for x in number_list]"
   ]
  },
  {
   "cell_type": "code",
   "execution_count": 5,
   "metadata": {},
   "outputs": [
    {
     "data": {
      "text/plain": [
       "'1 ~ 1000 裡面只有 168 個質數'"
      ]
     },
     "execution_count": 5,
     "metadata": {},
     "output_type": "execute_result"
    }
   ],
   "source": [
    "f\"1 ~ {N} 裡面只有 {len(prime_number_list)} 個質數\""
   ]
  },
  {
   "cell_type": "code",
   "execution_count": 6,
   "metadata": {},
   "outputs": [
    {
     "data": {
      "image/png": "[encoded data removed]",
      "text/plain": [
       "<Figure size 1440x360 with 1 Axes>"
      ]
     },
     "metadata": {
      "needs_background": "light"
     },
     "output_type": "display_data"
    }
   ],
   "source": [
    "plt.figure(figsize=(20, 5))\n",
    "plt.title(f\"prime number inside 1 ~ {N}\")\n",
    "plt.scatter(\n",
    "    range(len(plot_array)),\n",
    "    plot_array,\n",
    "    s=0.3\n",
    ")\n",
    "plt.show()"
   ]
  },
  {
   "cell_type": "markdown",
   "metadata": {},
   "source": [
    "## 2.2 質因數分解 (prime factorization)\n",
    "再看一下上面的例子，會發現 $24$ 可以被寫成很多種分解方式，但是有一種方式都是由質數組成，也就是\n",
    "$$\n",
    "24 = 2^3 \\times 3\n",
    "$$\n",
    "這種分解方式叫做<font color='orange'>**質因數分解** (prime factorization)<font>"
   ]
  },
  {
   "cell_type": "markdown",
   "metadata": {},
   "source": [
    "### 2.2.1 如何做出質因數分解？\n",
    "1. 先找出所有的質因數 (find all prime factors)"
   ]
  },
  {
   "cell_type": "code",
   "execution_count": 7,
   "metadata": {},
   "outputs": [
    {
     "data": {
      "text/plain": [
       "[2, 3, 5]"
      ]
     },
     "execution_count": 7,
     "metadata": {},
     "output_type": "execute_result"
    }
   ],
   "source": [
    "number = 1200\n",
    "utils.get_prime_factor_list(number)"
   ]
  },
  {
   "cell_type": "markdown",
   "metadata": {},
   "source": [
    "2. 再找出這些數字可以整除幾次"
   ]
  },
  {
   "cell_type": "code",
   "execution_count": 8,
   "metadata": {},
   "outputs": [
    {
     "data": {
      "text/latex": [
       "$2^4\\times3^1\\times5^2$"
      ],
      "text/plain": [
       "<IPython.core.display.Latex object>"
      ]
     },
     "metadata": {},
     "output_type": "display_data"
    }
   ],
   "source": [
    "utils.display_prime_factorization(number)"
   ]
  },
  {
   "cell_type": "markdown",
   "metadata": {},
   "source": [
    "# 3. 測試一下幾個日子吧！"
   ]
  },
  {
   "cell_type": "code",
   "execution_count": 9,
   "metadata": {},
   "outputs": [
    {
     "data": {
      "text/latex": [
       "$3019^1\\times6701^1$"
      ],
      "text/plain": [
       "<IPython.core.display.Latex object>"
      ]
     },
     "metadata": {},
     "output_type": "display_data"
    }
   ],
   "source": [
    "date = 20230319\n",
    "prime_factor_order_dict = utils.get_prime_factor_order_dict(date)\n",
    "\n",
    "utils.display_prime_factorization(date)"
   ]
  },
  {
   "cell_type": "code",
   "execution_count": 10,
   "metadata": {},
   "outputs": [
    {
     "data": {
      "text/plain": [
       "'30196701'"
      ]
     },
     "execution_count": 10,
     "metadata": {},
     "output_type": "execute_result"
    }
   ],
   "source": [
    "utils.get_prime_factorization_password(date)"
   ]
  },
  {
   "cell_type": "markdown",
   "metadata": {},
   "source": [
    "# 4. 如果自己的生日剛好是質數......，那你可以反過來設定密碼！"
   ]
  },
  {
   "cell_type": "code",
   "execution_count": 11,
   "metadata": {},
   "outputs": [],
   "source": [
    "date_list = [int(dt.strftime('%Y%m%d')) for dt in pd.date_range(\"19000101\", \"20241231\")]"
   ]
  },
  {
   "cell_type": "code",
   "execution_count": 12,
   "metadata": {},
   "outputs": [
    {
     "name": "stdout",
     "output_type": "stream",
     "text": [
      "CPU times: user 13.6 s, sys: 46.6 ms, total: 13.7 s\n",
      "Wall time: 13.8 s\n"
     ]
    }
   ],
   "source": [
    "%%time\n",
    "prime_birthday_list = [date for date in date_list if utils.is_prime(date)]"
   ]
  },
  {
   "cell_type": "code",
   "execution_count": 13,
   "metadata": {},
   "outputs": [
    {
     "name": "stdout",
     "output_type": "stream",
     "text": [
      "在 20 世紀 (1990/1/1) 後 45656 多個日子，只有 2791 個日子是質數，比率 0.061\n"
     ]
    }
   ],
   "source": [
    "ratio = len(prime_birthday_list) / len(date_list)\n",
    "print(f\"在 20 世紀 (1990/1/1) 後 {len(date_list)} 多個日子，只有 {len(prime_birthday_list)} 個日子是質數，比率 {ratio:.3f}\")"
   ]
  },
  {
   "cell_type": "code",
   "execution_count": 14,
   "metadata": {},
   "outputs": [
    {
     "data": {
      "text/latex": [
       "$20241229^1$"
      ],
      "text/plain": [
       "<IPython.core.display.Latex object>"
      ]
     },
     "metadata": {},
     "output_type": "display_data"
    },
    {
     "name": "stdout",
     "output_type": "stream",
     "text": [
      "CPU times: user 2.46 ms, sys: 1.35 ms, total: 3.81 ms\n",
      "Wall time: 3.7 ms\n"
     ]
    }
   ],
   "source": [
    "%%time\n",
    "number = prime_birthday_list[-1]\n",
    "utils.display_prime_factorization(number)"
   ]
  },
  {
   "cell_type": "code",
   "execution_count": 16,
   "metadata": {},
   "outputs": [
    {
     "data": {
      "text/latex": [
       "$2^1\\times499^1\\times92399^1$"
      ],
      "text/plain": [
       "<IPython.core.display.Latex object>"
      ]
     },
     "metadata": {},
     "output_type": "display_data"
    },
    {
     "name": "stdout",
     "output_type": "stream",
     "text": [
      "CPU times: user 5.2 ms, sys: 2.34 ms, total: 7.54 ms\n",
      "Wall time: 17.2 ms\n"
     ]
    }
   ],
   "source": [
    "%%time\n",
    "utils.display_prime_factorization(int(str(number)[::-1]))"
   ]
  },
  {
   "cell_type": "markdown",
   "metadata": {},
   "source": [
    "## 4.1. 如果反過來還是質數，那代表你非常幸運呢！"
   ]
  },
  {
   "cell_type": "code",
   "execution_count": 17,
   "metadata": {},
   "outputs": [],
   "source": [
    "revser_also_prime_birthday_list = [\n",
    "    prime_birthday for prime_birthday in prime_birthday_list\n",
    "    if utils.is_prime(int(str(prime_birthday)[::-1]))\n",
    "]"
   ]
  },
  {
   "cell_type": "code",
   "execution_count": 18,
   "metadata": {},
   "outputs": [
    {
     "data": {
      "text/latex": [
       "$19000409^1$"
      ],
      "text/plain": [
       "<IPython.core.display.Latex object>"
      ]
     },
     "metadata": {},
     "output_type": "display_data"
    }
   ],
   "source": [
    "number = revser_also_prime_birthday_list[0]\n",
    "utils.display_prime_factorization(number)"
   ]
  },
  {
   "cell_type": "code",
   "execution_count": 19,
   "metadata": {},
   "outputs": [
    {
     "data": {
      "text/latex": [
       "$90400091^1$"
      ],
      "text/plain": [
       "<IPython.core.display.Latex object>"
      ]
     },
     "metadata": {},
     "output_type": "display_data"
    }
   ],
   "source": [
    "utils.display_prime_factorization(int(str(number)[::-1]))"
   ]
  },
  {
   "cell_type": "code",
   "execution_count": 20,
   "metadata": {},
   "outputs": [
    {
     "data": {
      "text/plain": [
       "[19890107,\n",
       " 19890713,\n",
       " 19890919,\n",
       " 19891103,\n",
       " 19900301,\n",
       " 19900417,\n",
       " 19900501,\n",
       " 19900607,\n",
       " 19900627,\n",
       " 19900927,\n",
       " 19901029,\n",
       " 19901107,\n",
       " 19910903,\n",
       " 19911109,\n",
       " 19911121,\n",
       " 19911209,\n",
       " 19920217,\n",
       " 19920427,\n",
       " 19920707,\n",
       " 19921129,\n",
       " 19930219,\n",
       " 19930327,\n",
       " 19930507,\n",
       " 19930717,\n",
       " 19930727,\n",
       " 19931129,\n",
       " 19940423,\n",
       " 19941007,\n",
       " 19950127,\n",
       " 19950517,\n",
       " 19950713,\n",
       " 19950901,\n",
       " 19951231]"
      ]
     },
     "execution_count": 20,
     "metadata": {},
     "output_type": "execute_result"
    }
   ],
   "source": [
    "start_date = 19890101\n",
    "end_date = 19951231\n",
    "selected_date_list = [date for date in revser_also_prime_birthday_list if date >= start_date and date <= end_date]\n",
    "selected_date_list"
   ]
  },
  {
   "cell_type": "code",
   "execution_count": null,
   "metadata": {},
   "outputs": [],
   "source": []
  }
 ],
 "metadata": {
  "kernelspec": {
   "display_name": "my_env_name",
   "language": "python",
   "name": "my_env_name"
  },
  "language_info": {
   "codemirror_mode": {
    "name": "ipython",
    "version": 3
   },
   "file_extension": ".py",
   "mimetype": "text/x-python",
   "name": "python",
   "nbconvert_exporter": "python",
   "pygments_lexer": "ipython3",
   "version": "3.7.4"
  }
 },
 "nbformat": 4,
 "nbformat_minor": 4
}
